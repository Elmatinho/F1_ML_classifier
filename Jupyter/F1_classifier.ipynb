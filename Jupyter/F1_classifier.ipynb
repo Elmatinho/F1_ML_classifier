{
 "cells": [
  {
   "cell_type": "markdown",
   "metadata": {},
   "source": [
    "# Clasificador de corredores de F1\n",
    "Este trabajo tiene por objetivo que dado un gran dataset poder clasificar a los corredores de la formula 1, la idea es ocupar todo el conocimiento obtenido dentro del curso para lograr llegar a este objetivo.\n",
    "Para esto, la plataforma tiene algunas preguntas a responder, las cuales son:\n",
    "¿Qué tipo de preguntas sobre ciencia de datos puedes responder en función de tus datos?\n",
    "¿Es esta una tarea supervisada o no supervisada?\n",
    "Si se trata de una tarea supervisada, ¿es una tarea de regresión o clasificación?\n",
    "¿Qué tan limpios están tus datos?\n",
    "¿Qué problemas crees que pueden surgir?"
   ]
  },
  {
   "cell_type": "code",
   "execution_count": null,
   "metadata": {},
   "outputs": [],
   "source": []
  }
 ],
 "metadata": {
  "language_info": {
   "name": "python"
  },
  "orig_nbformat": 4
 },
 "nbformat": 4,
 "nbformat_minor": 2
}
